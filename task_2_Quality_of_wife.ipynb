{
 "cells": [
  {
   "cell_type": "code",
   "execution_count": 1,
   "metadata": {
    "id": "atIeL0B9ukMj"
   },
   "outputs": [],
   "source": [
    "import pandas as pd\n",
    "from sklearn.model_selection import train_test_split\n",
    "from sklearn.linear_model import LinearRegression\n",
    "from sklearn import metrics\n",
    "import matplotlib.pyplot as plt\n",
    "import numpy as np\n",
    "import seaborn as sns"
   ]
  },
  {
   "cell_type": "code",
   "execution_count": 2,
   "metadata": {
    "colab": {
     "base_uri": "https://localhost:8080/",
     "height": 267
    },
    "id": "P4f4lNPuvTlY",
    "outputId": "28473935-5155-4c1c-bb92-f7dc6616592a"
   },
   "outputs": [
    {
     "data": {
      "text/html": [
       "<div>\n",
       "<style scoped>\n",
       "    .dataframe tbody tr th:only-of-type {\n",
       "        vertical-align: middle;\n",
       "    }\n",
       "\n",
       "    .dataframe tbody tr th {\n",
       "        vertical-align: top;\n",
       "    }\n",
       "\n",
       "    .dataframe thead th {\n",
       "        text-align: right;\n",
       "    }\n",
       "</style>\n",
       "<table border=\"1\" class=\"dataframe\">\n",
       "  <thead>\n",
       "    <tr style=\"text-align: right;\">\n",
       "      <th></th>\n",
       "      <th>fixed acidity</th>\n",
       "      <th>volatile acidity</th>\n",
       "      <th>citric acid</th>\n",
       "      <th>residual sugar</th>\n",
       "      <th>chlorides</th>\n",
       "      <th>free sulfur dioxide</th>\n",
       "      <th>total sulfur dioxide</th>\n",
       "      <th>density</th>\n",
       "      <th>pH</th>\n",
       "      <th>sulphates</th>\n",
       "      <th>alcohol</th>\n",
       "      <th>quality</th>\n",
       "    </tr>\n",
       "  </thead>\n",
       "  <tbody>\n",
       "    <tr>\n",
       "      <th>0</th>\n",
       "      <td>7.4</td>\n",
       "      <td>0.70</td>\n",
       "      <td>0.00</td>\n",
       "      <td>1.9</td>\n",
       "      <td>0.076</td>\n",
       "      <td>11.0</td>\n",
       "      <td>34.0</td>\n",
       "      <td>0.9978</td>\n",
       "      <td>3.51</td>\n",
       "      <td>0.56</td>\n",
       "      <td>9.4</td>\n",
       "      <td>5</td>\n",
       "    </tr>\n",
       "    <tr>\n",
       "      <th>1</th>\n",
       "      <td>7.8</td>\n",
       "      <td>0.88</td>\n",
       "      <td>0.00</td>\n",
       "      <td>2.6</td>\n",
       "      <td>0.098</td>\n",
       "      <td>25.0</td>\n",
       "      <td>67.0</td>\n",
       "      <td>0.9968</td>\n",
       "      <td>3.20</td>\n",
       "      <td>0.68</td>\n",
       "      <td>9.8</td>\n",
       "      <td>5</td>\n",
       "    </tr>\n",
       "    <tr>\n",
       "      <th>2</th>\n",
       "      <td>7.8</td>\n",
       "      <td>0.76</td>\n",
       "      <td>0.04</td>\n",
       "      <td>2.3</td>\n",
       "      <td>0.092</td>\n",
       "      <td>15.0</td>\n",
       "      <td>54.0</td>\n",
       "      <td>0.9970</td>\n",
       "      <td>3.26</td>\n",
       "      <td>0.65</td>\n",
       "      <td>9.8</td>\n",
       "      <td>5</td>\n",
       "    </tr>\n",
       "    <tr>\n",
       "      <th>3</th>\n",
       "      <td>11.2</td>\n",
       "      <td>0.28</td>\n",
       "      <td>0.56</td>\n",
       "      <td>1.9</td>\n",
       "      <td>0.075</td>\n",
       "      <td>17.0</td>\n",
       "      <td>60.0</td>\n",
       "      <td>0.9980</td>\n",
       "      <td>3.16</td>\n",
       "      <td>0.58</td>\n",
       "      <td>9.8</td>\n",
       "      <td>6</td>\n",
       "    </tr>\n",
       "    <tr>\n",
       "      <th>4</th>\n",
       "      <td>7.4</td>\n",
       "      <td>0.70</td>\n",
       "      <td>0.00</td>\n",
       "      <td>1.9</td>\n",
       "      <td>0.076</td>\n",
       "      <td>11.0</td>\n",
       "      <td>34.0</td>\n",
       "      <td>0.9978</td>\n",
       "      <td>3.51</td>\n",
       "      <td>0.56</td>\n",
       "      <td>9.4</td>\n",
       "      <td>5</td>\n",
       "    </tr>\n",
       "  </tbody>\n",
       "</table>\n",
       "</div>"
      ],
      "text/plain": [
       "   fixed acidity  volatile acidity  citric acid  residual sugar  chlorides  \\\n",
       "0            7.4              0.70         0.00             1.9      0.076   \n",
       "1            7.8              0.88         0.00             2.6      0.098   \n",
       "2            7.8              0.76         0.04             2.3      0.092   \n",
       "3           11.2              0.28         0.56             1.9      0.075   \n",
       "4            7.4              0.70         0.00             1.9      0.076   \n",
       "\n",
       "   free sulfur dioxide  total sulfur dioxide  density    pH  sulphates  \\\n",
       "0                 11.0                  34.0   0.9978  3.51       0.56   \n",
       "1                 25.0                  67.0   0.9968  3.20       0.68   \n",
       "2                 15.0                  54.0   0.9970  3.26       0.65   \n",
       "3                 17.0                  60.0   0.9980  3.16       0.58   \n",
       "4                 11.0                  34.0   0.9978  3.51       0.56   \n",
       "\n",
       "   alcohol  quality  \n",
       "0      9.4        5  \n",
       "1      9.8        5  \n",
       "2      9.8        5  \n",
       "3      9.8        6  \n",
       "4      9.4        5  "
      ]
     },
     "execution_count": 2,
     "metadata": {},
     "output_type": "execute_result"
    }
   ],
   "source": [
    "#loading the data\n",
    "dataset=pd.read_csv('winequality-red.csv')\n",
    "dataset.head()"
   ]
  },
  {
   "cell_type": "code",
   "execution_count": 3,
   "metadata": {
    "colab": {
     "base_uri": "https://localhost:8080/"
    },
    "id": "TYfLBZVpvXBm",
    "outputId": "3d312234-82d2-487e-b330-ded46a5aa38b"
   },
   "outputs": [
    {
     "name": "stdout",
     "output_type": "stream",
     "text": [
      "shape of our datasets of Red-Wine:(1599, 12)\n",
      "Column headers/names:['fixed acidity', 'volatile acidity', 'citric acid', 'residual sugar', 'chlorides', 'free sulfur dioxide', 'total sulfur dioxide', 'density', 'pH', 'sulphates', 'alcohol', 'quality']\n"
     ]
    }
   ],
   "source": [
    "#shape of datasets\n",
    "print(\"shape of our datasets of Red-Wine:{s}\".format(s=dataset.shape))\n",
    "print(\"Column headers/names:{s}\".format(s=list(dataset)))"
   ]
  },
  {
   "cell_type": "code",
   "execution_count": 4,
   "metadata": {
    "colab": {
     "base_uri": "https://localhost:8080/"
    },
    "id": "voKAwSogvaiV",
    "outputId": "620eab7c-83c1-4f45-f756-5f400679e2a0"
   },
   "outputs": [
    {
     "name": "stdout",
     "output_type": "stream",
     "text": [
      "<class 'pandas.core.frame.DataFrame'>\n",
      "RangeIndex: 1599 entries, 0 to 1598\n",
      "Data columns (total 12 columns):\n",
      " #   Column                Non-Null Count  Dtype  \n",
      "---  ------                --------------  -----  \n",
      " 0   fixed acidity         1599 non-null   float64\n",
      " 1   volatile acidity      1599 non-null   float64\n",
      " 2   citric acid           1599 non-null   float64\n",
      " 3   residual sugar        1599 non-null   float64\n",
      " 4   chlorides             1599 non-null   float64\n",
      " 5   free sulfur dioxide   1599 non-null   float64\n",
      " 6   total sulfur dioxide  1599 non-null   float64\n",
      " 7   density               1599 non-null   float64\n",
      " 8   pH                    1599 non-null   float64\n",
      " 9   sulphates             1599 non-null   float64\n",
      " 10  alcohol               1599 non-null   float64\n",
      " 11  quality               1599 non-null   int64  \n",
      "dtypes: float64(11), int64(1)\n",
      "memory usage: 150.0 KB\n"
     ]
    }
   ],
   "source": [
    "dataset.info()"
   ]
  },
  {
   "cell_type": "code",
   "execution_count": 5,
   "metadata": {
    "colab": {
     "base_uri": "https://localhost:8080/",
     "height": 399
    },
    "id": "dldCSugkvdr3",
    "outputId": "283610e4-e536-4874-b420-83ae11cad05f"
   },
   "outputs": [
    {
     "data": {
      "text/html": [
       "<div>\n",
       "<style scoped>\n",
       "    .dataframe tbody tr th:only-of-type {\n",
       "        vertical-align: middle;\n",
       "    }\n",
       "\n",
       "    .dataframe tbody tr th {\n",
       "        vertical-align: top;\n",
       "    }\n",
       "\n",
       "    .dataframe thead th {\n",
       "        text-align: right;\n",
       "    }\n",
       "</style>\n",
       "<table border=\"1\" class=\"dataframe\">\n",
       "  <thead>\n",
       "    <tr style=\"text-align: right;\">\n",
       "      <th></th>\n",
       "      <th>fixed acidity</th>\n",
       "      <th>volatile acidity</th>\n",
       "      <th>citric acid</th>\n",
       "      <th>residual sugar</th>\n",
       "      <th>chlorides</th>\n",
       "      <th>free sulfur dioxide</th>\n",
       "      <th>total sulfur dioxide</th>\n",
       "      <th>density</th>\n",
       "      <th>pH</th>\n",
       "      <th>sulphates</th>\n",
       "      <th>alcohol</th>\n",
       "      <th>quality</th>\n",
       "    </tr>\n",
       "  </thead>\n",
       "  <tbody>\n",
       "    <tr>\n",
       "      <th>count</th>\n",
       "      <td>1599.000000</td>\n",
       "      <td>1599.000000</td>\n",
       "      <td>1599.000000</td>\n",
       "      <td>1599.000000</td>\n",
       "      <td>1599.000000</td>\n",
       "      <td>1599.000000</td>\n",
       "      <td>1599.000000</td>\n",
       "      <td>1599.000000</td>\n",
       "      <td>1599.000000</td>\n",
       "      <td>1599.000000</td>\n",
       "      <td>1599.000000</td>\n",
       "      <td>1599.000000</td>\n",
       "    </tr>\n",
       "    <tr>\n",
       "      <th>mean</th>\n",
       "      <td>8.319637</td>\n",
       "      <td>0.527821</td>\n",
       "      <td>0.270976</td>\n",
       "      <td>2.538806</td>\n",
       "      <td>0.087467</td>\n",
       "      <td>15.874922</td>\n",
       "      <td>46.467792</td>\n",
       "      <td>0.996747</td>\n",
       "      <td>3.311113</td>\n",
       "      <td>0.658149</td>\n",
       "      <td>10.422983</td>\n",
       "      <td>5.636023</td>\n",
       "    </tr>\n",
       "    <tr>\n",
       "      <th>std</th>\n",
       "      <td>1.741096</td>\n",
       "      <td>0.179060</td>\n",
       "      <td>0.194801</td>\n",
       "      <td>1.409928</td>\n",
       "      <td>0.047065</td>\n",
       "      <td>10.460157</td>\n",
       "      <td>32.895324</td>\n",
       "      <td>0.001887</td>\n",
       "      <td>0.154386</td>\n",
       "      <td>0.169507</td>\n",
       "      <td>1.065668</td>\n",
       "      <td>0.807569</td>\n",
       "    </tr>\n",
       "    <tr>\n",
       "      <th>min</th>\n",
       "      <td>4.600000</td>\n",
       "      <td>0.120000</td>\n",
       "      <td>0.000000</td>\n",
       "      <td>0.900000</td>\n",
       "      <td>0.012000</td>\n",
       "      <td>1.000000</td>\n",
       "      <td>6.000000</td>\n",
       "      <td>0.990070</td>\n",
       "      <td>2.740000</td>\n",
       "      <td>0.330000</td>\n",
       "      <td>8.400000</td>\n",
       "      <td>3.000000</td>\n",
       "    </tr>\n",
       "    <tr>\n",
       "      <th>25%</th>\n",
       "      <td>7.100000</td>\n",
       "      <td>0.390000</td>\n",
       "      <td>0.090000</td>\n",
       "      <td>1.900000</td>\n",
       "      <td>0.070000</td>\n",
       "      <td>7.000000</td>\n",
       "      <td>22.000000</td>\n",
       "      <td>0.995600</td>\n",
       "      <td>3.210000</td>\n",
       "      <td>0.550000</td>\n",
       "      <td>9.500000</td>\n",
       "      <td>5.000000</td>\n",
       "    </tr>\n",
       "    <tr>\n",
       "      <th>50%</th>\n",
       "      <td>7.900000</td>\n",
       "      <td>0.520000</td>\n",
       "      <td>0.260000</td>\n",
       "      <td>2.200000</td>\n",
       "      <td>0.079000</td>\n",
       "      <td>14.000000</td>\n",
       "      <td>38.000000</td>\n",
       "      <td>0.996750</td>\n",
       "      <td>3.310000</td>\n",
       "      <td>0.620000</td>\n",
       "      <td>10.200000</td>\n",
       "      <td>6.000000</td>\n",
       "    </tr>\n",
       "    <tr>\n",
       "      <th>75%</th>\n",
       "      <td>9.200000</td>\n",
       "      <td>0.640000</td>\n",
       "      <td>0.420000</td>\n",
       "      <td>2.600000</td>\n",
       "      <td>0.090000</td>\n",
       "      <td>21.000000</td>\n",
       "      <td>62.000000</td>\n",
       "      <td>0.997835</td>\n",
       "      <td>3.400000</td>\n",
       "      <td>0.730000</td>\n",
       "      <td>11.100000</td>\n",
       "      <td>6.000000</td>\n",
       "    </tr>\n",
       "    <tr>\n",
       "      <th>max</th>\n",
       "      <td>15.900000</td>\n",
       "      <td>1.580000</td>\n",
       "      <td>1.000000</td>\n",
       "      <td>15.500000</td>\n",
       "      <td>0.611000</td>\n",
       "      <td>72.000000</td>\n",
       "      <td>289.000000</td>\n",
       "      <td>1.003690</td>\n",
       "      <td>4.010000</td>\n",
       "      <td>2.000000</td>\n",
       "      <td>14.900000</td>\n",
       "      <td>8.000000</td>\n",
       "    </tr>\n",
       "  </tbody>\n",
       "</table>\n",
       "</div>"
      ],
      "text/plain": [
       "       fixed acidity  volatile acidity  citric acid  residual sugar  \\\n",
       "count    1599.000000       1599.000000  1599.000000     1599.000000   \n",
       "mean        8.319637          0.527821     0.270976        2.538806   \n",
       "std         1.741096          0.179060     0.194801        1.409928   \n",
       "min         4.600000          0.120000     0.000000        0.900000   \n",
       "25%         7.100000          0.390000     0.090000        1.900000   \n",
       "50%         7.900000          0.520000     0.260000        2.200000   \n",
       "75%         9.200000          0.640000     0.420000        2.600000   \n",
       "max        15.900000          1.580000     1.000000       15.500000   \n",
       "\n",
       "         chlorides  free sulfur dioxide  total sulfur dioxide      density  \\\n",
       "count  1599.000000          1599.000000           1599.000000  1599.000000   \n",
       "mean      0.087467            15.874922             46.467792     0.996747   \n",
       "std       0.047065            10.460157             32.895324     0.001887   \n",
       "min       0.012000             1.000000              6.000000     0.990070   \n",
       "25%       0.070000             7.000000             22.000000     0.995600   \n",
       "50%       0.079000            14.000000             38.000000     0.996750   \n",
       "75%       0.090000            21.000000             62.000000     0.997835   \n",
       "max       0.611000            72.000000            289.000000     1.003690   \n",
       "\n",
       "                pH    sulphates      alcohol      quality  \n",
       "count  1599.000000  1599.000000  1599.000000  1599.000000  \n",
       "mean      3.311113     0.658149    10.422983     5.636023  \n",
       "std       0.154386     0.169507     1.065668     0.807569  \n",
       "min       2.740000     0.330000     8.400000     3.000000  \n",
       "25%       3.210000     0.550000     9.500000     5.000000  \n",
       "50%       3.310000     0.620000    10.200000     6.000000  \n",
       "75%       3.400000     0.730000    11.100000     6.000000  \n",
       "max       4.010000     2.000000    14.900000     8.000000  "
      ]
     },
     "execution_count": 5,
     "metadata": {},
     "output_type": "execute_result"
    }
   ],
   "source": [
    "dataset.describe()"
   ]
  },
  {
   "cell_type": "code",
   "execution_count": 6,
   "metadata": {
    "colab": {
     "base_uri": "https://localhost:8080/"
    },
    "id": "kvUoHhnuvhiE",
    "outputId": "ccc4b1f2-5494-4ade-c323-7d981c19c23a"
   },
   "outputs": [
    {
     "data": {
      "text/plain": [
       "array([5, 6, 7, 4, 8, 3], dtype=int64)"
      ]
     },
     "execution_count": 6,
     "metadata": {},
     "output_type": "execute_result"
    }
   ],
   "source": [
    "dataset['quality'].unique()"
   ]
  },
  {
   "cell_type": "code",
   "execution_count": 7,
   "metadata": {
    "colab": {
     "base_uri": "https://localhost:8080/"
    },
    "id": "YZiE9RXTvkuk",
    "outputId": "a832105c-72de-485a-9509-72455c3f1aa2"
   },
   "outputs": [
    {
     "data": {
      "text/plain": [
       "quality\n",
       "3     10\n",
       "4     53\n",
       "5    681\n",
       "6    638\n",
       "7    199\n",
       "8     18\n",
       "Name: count, dtype: int64"
      ]
     },
     "execution_count": 7,
     "metadata": {},
     "output_type": "execute_result"
    }
   ],
   "source": [
    "dataset.quality.value_counts().sort_index()"
   ]
  },
  {
   "cell_type": "code",
   "execution_count": 8,
   "metadata": {
    "colab": {
     "base_uri": "https://localhost:8080/",
     "height": 466
    },
    "id": "7w9oP6_ovowh",
    "outputId": "e91b696a-da4a-4f6b-89af-97b8b1b95e7f"
   },
   "outputs": [
    {
     "data": {
      "text/plain": [
       "<Axes: xlabel='quality', ylabel='count'>"
      ]
     },
     "execution_count": 8,
     "metadata": {},
     "output_type": "execute_result"
    },
    {
     "data": {
      "image/png": "[encoded data removed]",
      "text/plain": [
       "<Figure size 640x480 with 1 Axes>"
      ]
     },
     "metadata": {},
     "output_type": "display_data"
    }
   ],
   "source": [
    "sns.countplot(x='quality',data=dataset)"
   ]
  },
  {
   "cell_type": "code",
   "execution_count": 9,
   "metadata": {
    "colab": {
     "base_uri": "https://localhost:8080/"
    },
    "id": "gdgy5Qrtvsee",
    "outputId": "20fd7daa-0cfe-472e-d446-39bdd5d76e93"
   },
   "outputs": [
    {
     "data": {
      "text/plain": [
       "count    1599.000000\n",
       "mean       10.422983\n",
       "std         1.065668\n",
       "min         8.400000\n",
       "25%         9.500000\n",
       "50%        10.200000\n",
       "75%        11.100000\n",
       "max        14.900000\n",
       "Name: alcohol, dtype: float64"
      ]
     },
     "execution_count": 9,
     "metadata": {},
     "output_type": "execute_result"
    }
   ],
   "source": [
    "dataset['alcohol'].describe()"
   ]
  },
  {
   "cell_type": "code",
   "execution_count": 10,
   "metadata": {
    "colab": {
     "base_uri": "https://localhost:8080/"
    },
    "id": "SWvRJb0tvwDd",
    "outputId": "510e4a6d-0c4d-4a9e-e893-64fa4ab49fdf"
   },
   "outputs": [
    {
     "data": {
      "text/plain": [
       "count    1599.000000\n",
       "mean        0.658149\n",
       "std         0.169507\n",
       "min         0.330000\n",
       "25%         0.550000\n",
       "50%         0.620000\n",
       "75%         0.730000\n",
       "max         2.000000\n",
       "Name: sulphates, dtype: float64"
      ]
     },
     "execution_count": 10,
     "metadata": {},
     "output_type": "execute_result"
    }
   ],
   "source": [
    "dataset['sulphates'].describe()"
   ]
  },
  {
   "cell_type": "code",
   "execution_count": 11,
   "metadata": {
    "colab": {
     "base_uri": "https://localhost:8080/"
    },
    "id": "qYIGPFAovzAp",
    "outputId": "6b7f97b1-1268-45ba-e2a8-9aa785c06d3c"
   },
   "outputs": [
    {
     "data": {
      "text/plain": [
       "count    1599.000000\n",
       "mean        0.270976\n",
       "std         0.194801\n",
       "min         0.000000\n",
       "25%         0.090000\n",
       "50%         0.260000\n",
       "75%         0.420000\n",
       "max         1.000000\n",
       "Name: citric acid, dtype: float64"
      ]
     },
     "execution_count": 11,
     "metadata": {},
     "output_type": "execute_result"
    }
   ],
   "source": [
    "dataset['citric acid'].describe()"
   ]
  },
  {
   "cell_type": "code",
   "execution_count": 12,
   "metadata": {
    "colab": {
     "base_uri": "https://localhost:8080/"
    },
    "id": "HChHKZw1v2Ku",
    "outputId": "280f4bee-9adb-4bcd-84af-1de489a02510"
   },
   "outputs": [
    {
     "data": {
      "text/plain": [
       "count    1599.000000\n",
       "mean        8.319637\n",
       "std         1.741096\n",
       "min         4.600000\n",
       "25%         7.100000\n",
       "50%         7.900000\n",
       "75%         9.200000\n",
       "max        15.900000\n",
       "Name: fixed acidity, dtype: float64"
      ]
     },
     "execution_count": 12,
     "metadata": {},
     "output_type": "execute_result"
    }
   ],
   "source": [
    "dataset['fixed acidity'].describe()"
   ]
  },
  {
   "cell_type": "code",
   "execution_count": 13,
   "metadata": {
    "colab": {
     "base_uri": "https://localhost:8080/"
    },
    "id": "K8ru3hWHv5Dy",
    "outputId": "ee182a1b-f071-4954-9fc4-0c296b7797b9"
   },
   "outputs": [
    {
     "data": {
      "text/plain": [
       "count    1599.000000\n",
       "mean        2.538806\n",
       "std         1.409928\n",
       "min         0.900000\n",
       "25%         1.900000\n",
       "50%         2.200000\n",
       "75%         2.600000\n",
       "max        15.500000\n",
       "Name: residual sugar, dtype: float64"
      ]
     },
     "execution_count": 13,
     "metadata": {},
     "output_type": "execute_result"
    }
   ],
   "source": [
    "dataset['residual sugar'].describe()"
   ]
  },
  {
   "cell_type": "code",
   "execution_count": 15,
   "metadata": {
    "colab": {
     "base_uri": "https://localhost:8080/"
    },
    "id": "ZmvICniiv8DR",
    "outputId": "efbc2483-c23a-4d67-d841-ed082d69d267"
   },
   "outputs": [
    {
     "name": "stdout",
     "output_type": "stream",
     "text": [
      "fixed acidity            2.700000\n",
      "volatile acidity         0.290000\n",
      "citric acid              0.390000\n",
      "residual sugar           0.900000\n",
      "chlorides                0.027000\n",
      "free sulfur dioxide     18.000000\n",
      "total sulfur dioxide    50.000000\n",
      "density                  0.002834\n",
      "pH                       0.244000\n",
      "sulphates                0.220000\n",
      "alcohol                  1.800000\n",
      "quality                  1.000000\n",
      "dtype: float64\n"
     ]
    }
   ],
   "source": [
    "Q1=dataset.quantile(0.2)\n",
    "Q3=dataset.quantile(0.8)\n",
    "IQR=Q3-Q1\n",
    "print(IQR)"
   ]
  },
  {
   "cell_type": "code",
   "execution_count": 16,
   "metadata": {
    "colab": {
     "base_uri": "https://localhost:8080/"
    },
    "id": "H98wPjOUwHvK",
    "outputId": "6bc4ffe4-4ac0-447a-a9dc-5e0b3c6864d6"
   },
   "outputs": [
    {
     "data": {
      "text/plain": [
       "(1334, 12)"
      ]
     },
     "execution_count": 16,
     "metadata": {},
     "output_type": "execute_result"
    }
   ],
   "source": [
    "dataset_out = dataset[~((dataset<(Q1-1.5*IQR))|(dataset>(Q3+1.5*IQR))).any(axis=1)]\n",
    "dataset_out.shape\n"
   ]
  },
  {
   "cell_type": "code",
   "execution_count": 17,
   "metadata": {
    "colab": {
     "base_uri": "https://localhost:8080/",
     "height": 485
    },
    "id": "jWPsNsjqwWRX",
    "outputId": "318b2341-c0e0-4d1d-a964-0b9ae57021d6"
   },
   "outputs": [
    {
     "data": {
      "text/html": [
       "<div>\n",
       "<style scoped>\n",
       "    .dataframe tbody tr th:only-of-type {\n",
       "        vertical-align: middle;\n",
       "    }\n",
       "\n",
       "    .dataframe tbody tr th {\n",
       "        vertical-align: top;\n",
       "    }\n",
       "\n",
       "    .dataframe thead th {\n",
       "        text-align: right;\n",
       "    }\n",
       "</style>\n",
       "<table border=\"1\" class=\"dataframe\">\n",
       "  <thead>\n",
       "    <tr style=\"text-align: right;\">\n",
       "      <th></th>\n",
       "      <th>fixed acidity</th>\n",
       "      <th>volatile acidity</th>\n",
       "      <th>citric acid</th>\n",
       "      <th>residual sugar</th>\n",
       "      <th>chlorides</th>\n",
       "      <th>free sulfur dioxide</th>\n",
       "      <th>total sulfur dioxide</th>\n",
       "      <th>density</th>\n",
       "      <th>pH</th>\n",
       "      <th>sulphates</th>\n",
       "      <th>alcohol</th>\n",
       "      <th>quality</th>\n",
       "    </tr>\n",
       "  </thead>\n",
       "  <tbody>\n",
       "    <tr>\n",
       "      <th>0</th>\n",
       "      <td>7.4</td>\n",
       "      <td>0.700</td>\n",
       "      <td>0.00</td>\n",
       "      <td>1.9</td>\n",
       "      <td>0.076</td>\n",
       "      <td>11.0</td>\n",
       "      <td>34.0</td>\n",
       "      <td>0.99780</td>\n",
       "      <td>3.51</td>\n",
       "      <td>0.56</td>\n",
       "      <td>9.4</td>\n",
       "      <td>5</td>\n",
       "    </tr>\n",
       "    <tr>\n",
       "      <th>1</th>\n",
       "      <td>7.8</td>\n",
       "      <td>0.880</td>\n",
       "      <td>0.00</td>\n",
       "      <td>2.6</td>\n",
       "      <td>0.098</td>\n",
       "      <td>25.0</td>\n",
       "      <td>67.0</td>\n",
       "      <td>0.99680</td>\n",
       "      <td>3.20</td>\n",
       "      <td>0.68</td>\n",
       "      <td>9.8</td>\n",
       "      <td>5</td>\n",
       "    </tr>\n",
       "    <tr>\n",
       "      <th>2</th>\n",
       "      <td>7.8</td>\n",
       "      <td>0.760</td>\n",
       "      <td>0.04</td>\n",
       "      <td>2.3</td>\n",
       "      <td>0.092</td>\n",
       "      <td>15.0</td>\n",
       "      <td>54.0</td>\n",
       "      <td>0.99700</td>\n",
       "      <td>3.26</td>\n",
       "      <td>0.65</td>\n",
       "      <td>9.8</td>\n",
       "      <td>5</td>\n",
       "    </tr>\n",
       "    <tr>\n",
       "      <th>3</th>\n",
       "      <td>11.2</td>\n",
       "      <td>0.280</td>\n",
       "      <td>0.56</td>\n",
       "      <td>1.9</td>\n",
       "      <td>0.075</td>\n",
       "      <td>17.0</td>\n",
       "      <td>60.0</td>\n",
       "      <td>0.99800</td>\n",
       "      <td>3.16</td>\n",
       "      <td>0.58</td>\n",
       "      <td>9.8</td>\n",
       "      <td>6</td>\n",
       "    </tr>\n",
       "    <tr>\n",
       "      <th>4</th>\n",
       "      <td>7.4</td>\n",
       "      <td>0.700</td>\n",
       "      <td>0.00</td>\n",
       "      <td>1.9</td>\n",
       "      <td>0.076</td>\n",
       "      <td>11.0</td>\n",
       "      <td>34.0</td>\n",
       "      <td>0.99780</td>\n",
       "      <td>3.51</td>\n",
       "      <td>0.56</td>\n",
       "      <td>9.4</td>\n",
       "      <td>5</td>\n",
       "    </tr>\n",
       "    <tr>\n",
       "      <th>...</th>\n",
       "      <td>...</td>\n",
       "      <td>...</td>\n",
       "      <td>...</td>\n",
       "      <td>...</td>\n",
       "      <td>...</td>\n",
       "      <td>...</td>\n",
       "      <td>...</td>\n",
       "      <td>...</td>\n",
       "      <td>...</td>\n",
       "      <td>...</td>\n",
       "      <td>...</td>\n",
       "      <td>...</td>\n",
       "    </tr>\n",
       "    <tr>\n",
       "      <th>1594</th>\n",
       "      <td>6.2</td>\n",
       "      <td>0.600</td>\n",
       "      <td>0.08</td>\n",
       "      <td>2.0</td>\n",
       "      <td>0.090</td>\n",
       "      <td>32.0</td>\n",
       "      <td>44.0</td>\n",
       "      <td>0.99490</td>\n",
       "      <td>3.45</td>\n",
       "      <td>0.58</td>\n",
       "      <td>10.5</td>\n",
       "      <td>5</td>\n",
       "    </tr>\n",
       "    <tr>\n",
       "      <th>1595</th>\n",
       "      <td>5.9</td>\n",
       "      <td>0.550</td>\n",
       "      <td>0.10</td>\n",
       "      <td>2.2</td>\n",
       "      <td>0.062</td>\n",
       "      <td>39.0</td>\n",
       "      <td>51.0</td>\n",
       "      <td>0.99512</td>\n",
       "      <td>3.52</td>\n",
       "      <td>0.76</td>\n",
       "      <td>11.2</td>\n",
       "      <td>6</td>\n",
       "    </tr>\n",
       "    <tr>\n",
       "      <th>1596</th>\n",
       "      <td>6.3</td>\n",
       "      <td>0.510</td>\n",
       "      <td>0.13</td>\n",
       "      <td>2.3</td>\n",
       "      <td>0.076</td>\n",
       "      <td>29.0</td>\n",
       "      <td>40.0</td>\n",
       "      <td>0.99574</td>\n",
       "      <td>3.42</td>\n",
       "      <td>0.75</td>\n",
       "      <td>11.0</td>\n",
       "      <td>6</td>\n",
       "    </tr>\n",
       "    <tr>\n",
       "      <th>1597</th>\n",
       "      <td>5.9</td>\n",
       "      <td>0.645</td>\n",
       "      <td>0.12</td>\n",
       "      <td>2.0</td>\n",
       "      <td>0.075</td>\n",
       "      <td>32.0</td>\n",
       "      <td>44.0</td>\n",
       "      <td>0.99547</td>\n",
       "      <td>3.57</td>\n",
       "      <td>0.71</td>\n",
       "      <td>10.2</td>\n",
       "      <td>5</td>\n",
       "    </tr>\n",
       "    <tr>\n",
       "      <th>1598</th>\n",
       "      <td>6.0</td>\n",
       "      <td>0.310</td>\n",
       "      <td>0.47</td>\n",
       "      <td>3.6</td>\n",
       "      <td>0.067</td>\n",
       "      <td>18.0</td>\n",
       "      <td>42.0</td>\n",
       "      <td>0.99549</td>\n",
       "      <td>3.39</td>\n",
       "      <td>0.66</td>\n",
       "      <td>11.0</td>\n",
       "      <td>6</td>\n",
       "    </tr>\n",
       "  </tbody>\n",
       "</table>\n",
       "<p>1334 rows × 12 columns</p>\n",
       "</div>"
      ],
      "text/plain": [
       "      fixed acidity  volatile acidity  citric acid  residual sugar  chlorides  \\\n",
       "0               7.4             0.700         0.00             1.9      0.076   \n",
       "1               7.8             0.880         0.00             2.6      0.098   \n",
       "2               7.8             0.760         0.04             2.3      0.092   \n",
       "3              11.2             0.280         0.56             1.9      0.075   \n",
       "4               7.4             0.700         0.00             1.9      0.076   \n",
       "...             ...               ...          ...             ...        ...   \n",
       "1594            6.2             0.600         0.08             2.0      0.090   \n",
       "1595            5.9             0.550         0.10             2.2      0.062   \n",
       "1596            6.3             0.510         0.13             2.3      0.076   \n",
       "1597            5.9             0.645         0.12             2.0      0.075   \n",
       "1598            6.0             0.310         0.47             3.6      0.067   \n",
       "\n",
       "      free sulfur dioxide  total sulfur dioxide  density    pH  sulphates  \\\n",
       "0                    11.0                  34.0  0.99780  3.51       0.56   \n",
       "1                    25.0                  67.0  0.99680  3.20       0.68   \n",
       "2                    15.0                  54.0  0.99700  3.26       0.65   \n",
       "3                    17.0                  60.0  0.99800  3.16       0.58   \n",
       "4                    11.0                  34.0  0.99780  3.51       0.56   \n",
       "...                   ...                   ...      ...   ...        ...   \n",
       "1594                 32.0                  44.0  0.99490  3.45       0.58   \n",
       "1595                 39.0                  51.0  0.99512  3.52       0.76   \n",
       "1596                 29.0                  40.0  0.99574  3.42       0.75   \n",
       "1597                 32.0                  44.0  0.99547  3.57       0.71   \n",
       "1598                 18.0                  42.0  0.99549  3.39       0.66   \n",
       "\n",
       "      alcohol  quality  \n",
       "0         9.4        5  \n",
       "1         9.8        5  \n",
       "2         9.8        5  \n",
       "3         9.8        6  \n",
       "4         9.4        5  \n",
       "...       ...      ...  \n",
       "1594     10.5        5  \n",
       "1595     11.2        6  \n",
       "1596     11.0        6  \n",
       "1597     10.2        5  \n",
       "1598     11.0        6  \n",
       "\n",
       "[1334 rows x 12 columns]"
      ]
     },
     "execution_count": 17,
     "metadata": {},
     "output_type": "execute_result"
    }
   ],
   "source": [
    "dataset_out"
   ]
  },
  {
   "cell_type": "code",
   "execution_count": 18,
   "metadata": {
    "colab": {
     "base_uri": "https://localhost:8080/"
    },
    "id": "i2BIdYaZxfDe",
    "outputId": "9ed39625-6fd6-4fa4-f9be-d525caeb2f86"
   },
   "outputs": [
    {
     "name": "stdout",
     "output_type": "stream",
     "text": [
      "fixed acidity           0.118764\n",
      "volatile acidity       -0.364576\n",
      "citric acid             0.219569\n",
      "residual sugar          0.007258\n",
      "chlorides              -0.149243\n",
      "free sulfur dioxide    -0.032280\n",
      "total sulfur dioxide   -0.220527\n",
      "density                -0.195323\n",
      "pH                     -0.040381\n",
      "sulphates               0.417443\n",
      "alcohol                 0.492316\n",
      "Name: quality, dtype: float64\n"
     ]
    }
   ],
   "source": [
    "correlations=dataset_out.corr()['quality'].drop('quality')\n",
    "print(correlations)"
   ]
  },
  {
   "cell_type": "code",
   "execution_count": 19,
   "metadata": {
    "colab": {
     "base_uri": "https://localhost:8080/",
     "height": 552
    },
    "id": "KHh0c5lHxltn",
    "outputId": "6eb21b69-4709-42ee-ceef-ec098022b727"
   },
   "outputs": [
    {
     "data": {
      "image/png": "[encoded data removed]",
      "text/plain": [
       "<Figure size 640x480 with 2 Axes>"
      ]
     },
     "metadata": {},
     "output_type": "display_data"
    }
   ],
   "source": [
    "sns.heatmap(dataset.corr())\n",
    "plt.show()"
   ]
  },
  {
   "cell_type": "code",
   "execution_count": 20,
   "metadata": {
    "colab": {
     "base_uri": "https://localhost:8080/"
    },
    "id": "lm1VDYqsxn8v",
    "outputId": "999a0d09-10ac-46c8-ada1-1a33d829acd4"
   },
   "outputs": [
    {
     "data": {
      "text/plain": [
       "alcohol                 0.492316\n",
       "sulphates               0.417443\n",
       "citric acid             0.219569\n",
       "fixed acidity           0.118764\n",
       "residual sugar          0.007258\n",
       "free sulfur dioxide    -0.032280\n",
       "pH                     -0.040381\n",
       "chlorides              -0.149243\n",
       "density                -0.195323\n",
       "total sulfur dioxide   -0.220527\n",
       "volatile acidity       -0.364576\n",
       "Name: quality, dtype: float64"
      ]
     },
     "execution_count": 20,
     "metadata": {},
     "output_type": "execute_result"
    }
   ],
   "source": [
    "#impact of various factor on quality\n",
    "correlations.sort_values(ascending=False)"
   ]
  },
  {
   "cell_type": "code",
   "execution_count": 21,
   "metadata": {
    "id": "cxrtO9G1xrq8"
   },
   "outputs": [],
   "source": [
    "def get_features(correlation_threshold):\n",
    "    abs_corrs=correlations.abs()\n",
    "    high_correlations=abs_corrs[abs_corrs>correlation_threshold].index.values.tolist()\n",
    "    return high_correlations"
   ]
  },
  {
   "cell_type": "code",
   "execution_count": 22,
   "metadata": {
    "colab": {
     "base_uri": "https://localhost:8080/"
    },
    "id": "KBmbL_s8xx8R",
    "outputId": "83c47665-ebaa-4c5b-89b2-5e97e08f6285"
   },
   "outputs": [
    {
     "name": "stdout",
     "output_type": "stream",
     "text": [
      "['fixed acidity', 'volatile acidity', 'citric acid', 'chlorides', 'total sulfur dioxide', 'density', 'sulphates', 'alcohol']\n"
     ]
    }
   ],
   "source": [
    "#taking features with correlation more than 0.05 as input x and quality as target variable y\n",
    "features = get_features(0.05)\n",
    "print(features)\n",
    "x=dataset_out[features]\n",
    "y=dataset_out['quality']"
   ]
  },
  {
   "cell_type": "code",
   "execution_count": 23,
   "metadata": {
    "colab": {
     "base_uri": "https://localhost:8080/",
     "height": 524
    },
    "id": "Dr4px7C6x2r7",
    "outputId": "0f6bea50-230a-433f-c167-0e24496dfec7"
   },
   "outputs": [
    {
     "data": {
      "text/plain": [
       "[Text(0.5, 0, 'Quality'),\n",
       " Text(0, 0.5, 'Alcohol'),\n",
       " Text(0.5, 1.0, 'Alcohol % in different samples')]"
      ]
     },
     "execution_count": 23,
     "metadata": {},
     "output_type": "execute_result"
    },
    {
     "data": {
      "image/png": "[encoded data removed]",
      "text/plain": [
       "<Figure size 640x480 with 1 Axes>"
      ]
     },
     "metadata": {},
     "output_type": "display_data"
    }
   ],
   "source": [
    "#to finding the no of outiers we have in our dataset with properties\n",
    "bx=sns.boxplot(x='quality',y='alcohol',data=dataset)\n",
    "bx.set(xlabel='Quality',ylabel='Alcohol',title='Alcohol % in different samples')"
   ]
  },
  {
   "cell_type": "code",
   "execution_count": 24,
   "metadata": {
    "colab": {
     "base_uri": "https://localhost:8080/",
     "height": 524
    },
    "id": "-501A0Yzx6hs",
    "outputId": "dcf8e8c0-df36-4094-b9c4-9f7c8110d901"
   },
   "outputs": [
    {
     "data": {
      "text/plain": [
       "[Text(0.5, 0, 'Quality'),\n",
       " Text(0, 0.5, 'Citric Acid'),\n",
       " Text(0.5, 1.0, 'Citric Acid % in different samples')]"
      ]
     },
     "execution_count": 24,
     "metadata": {},
     "output_type": "execute_result"
    },
    {
     "data": {
      "image/png": "[encoded data removed]",
      "text/plain": [
       "<Figure size 640x480 with 1 Axes>"
      ]
     },
     "metadata": {},
     "output_type": "display_data"
    }
   ],
   "source": [
    "bx=sns.boxplot(x='quality',y='citric acid',data=dataset)\n",
    "bx.set(xlabel='Quality',ylabel='Citric Acid',title='Citric Acid % in different samples')"
   ]
  },
  {
   "cell_type": "code",
   "execution_count": 25,
   "metadata": {
    "colab": {
     "base_uri": "https://localhost:8080/",
     "height": 524
    },
    "id": "93y04dm_x_FU",
    "outputId": "764b83e0-07d8-4e83-d856-94e513944c56"
   },
   "outputs": [
    {
     "data": {
      "text/plain": [
       "[Text(0.5, 0, 'Quality'),\n",
       " Text(0, 0.5, 'Fixed Acidity'),\n",
       " Text(0.5, 1.0, 'Fixed Acidity % in different samples')]"
      ]
     },
     "execution_count": 25,
     "metadata": {},
     "output_type": "execute_result"
    },
    {
     "data": {
      "image/png": "[encoded data removed]",
      "text/plain": [
       "<Figure size 640x480 with 1 Axes>"
      ]
     },
     "metadata": {},
     "output_type": "display_data"
    }
   ],
   "source": [
    "bx=sns.boxplot(x='quality',y='fixed acidity',data=dataset)\n",
    "bx.set(xlabel='Quality',ylabel='Fixed Acidity',title='Fixed Acidity % in different samples')"
   ]
  },
  {
   "cell_type": "code",
   "execution_count": 26,
   "metadata": {
    "colab": {
     "base_uri": "https://localhost:8080/",
     "height": 423
    },
    "id": "oEDF2jv4yCn0",
    "outputId": "946eb62a-b7cd-4d67-cd21-5e2a1fc74a59"
   },
   "outputs": [
    {
     "data": {
      "text/html": [
       "<div>\n",
       "<style scoped>\n",
       "    .dataframe tbody tr th:only-of-type {\n",
       "        vertical-align: middle;\n",
       "    }\n",
       "\n",
       "    .dataframe tbody tr th {\n",
       "        vertical-align: top;\n",
       "    }\n",
       "\n",
       "    .dataframe thead th {\n",
       "        text-align: right;\n",
       "    }\n",
       "</style>\n",
       "<table border=\"1\" class=\"dataframe\">\n",
       "  <thead>\n",
       "    <tr style=\"text-align: right;\">\n",
       "      <th></th>\n",
       "      <th>fixed acidity</th>\n",
       "      <th>volatile acidity</th>\n",
       "      <th>citric acid</th>\n",
       "      <th>chlorides</th>\n",
       "      <th>total sulfur dioxide</th>\n",
       "      <th>density</th>\n",
       "      <th>sulphates</th>\n",
       "      <th>alcohol</th>\n",
       "    </tr>\n",
       "  </thead>\n",
       "  <tbody>\n",
       "    <tr>\n",
       "      <th>0</th>\n",
       "      <td>7.4</td>\n",
       "      <td>0.700</td>\n",
       "      <td>0.00</td>\n",
       "      <td>0.076</td>\n",
       "      <td>34.0</td>\n",
       "      <td>0.99780</td>\n",
       "      <td>0.56</td>\n",
       "      <td>9.4</td>\n",
       "    </tr>\n",
       "    <tr>\n",
       "      <th>1</th>\n",
       "      <td>7.8</td>\n",
       "      <td>0.880</td>\n",
       "      <td>0.00</td>\n",
       "      <td>0.098</td>\n",
       "      <td>67.0</td>\n",
       "      <td>0.99680</td>\n",
       "      <td>0.68</td>\n",
       "      <td>9.8</td>\n",
       "    </tr>\n",
       "    <tr>\n",
       "      <th>2</th>\n",
       "      <td>7.8</td>\n",
       "      <td>0.760</td>\n",
       "      <td>0.04</td>\n",
       "      <td>0.092</td>\n",
       "      <td>54.0</td>\n",
       "      <td>0.99700</td>\n",
       "      <td>0.65</td>\n",
       "      <td>9.8</td>\n",
       "    </tr>\n",
       "    <tr>\n",
       "      <th>3</th>\n",
       "      <td>11.2</td>\n",
       "      <td>0.280</td>\n",
       "      <td>0.56</td>\n",
       "      <td>0.075</td>\n",
       "      <td>60.0</td>\n",
       "      <td>0.99800</td>\n",
       "      <td>0.58</td>\n",
       "      <td>9.8</td>\n",
       "    </tr>\n",
       "    <tr>\n",
       "      <th>4</th>\n",
       "      <td>7.4</td>\n",
       "      <td>0.700</td>\n",
       "      <td>0.00</td>\n",
       "      <td>0.076</td>\n",
       "      <td>34.0</td>\n",
       "      <td>0.99780</td>\n",
       "      <td>0.56</td>\n",
       "      <td>9.4</td>\n",
       "    </tr>\n",
       "    <tr>\n",
       "      <th>...</th>\n",
       "      <td>...</td>\n",
       "      <td>...</td>\n",
       "      <td>...</td>\n",
       "      <td>...</td>\n",
       "      <td>...</td>\n",
       "      <td>...</td>\n",
       "      <td>...</td>\n",
       "      <td>...</td>\n",
       "    </tr>\n",
       "    <tr>\n",
       "      <th>1594</th>\n",
       "      <td>6.2</td>\n",
       "      <td>0.600</td>\n",
       "      <td>0.08</td>\n",
       "      <td>0.090</td>\n",
       "      <td>44.0</td>\n",
       "      <td>0.99490</td>\n",
       "      <td>0.58</td>\n",
       "      <td>10.5</td>\n",
       "    </tr>\n",
       "    <tr>\n",
       "      <th>1595</th>\n",
       "      <td>5.9</td>\n",
       "      <td>0.550</td>\n",
       "      <td>0.10</td>\n",
       "      <td>0.062</td>\n",
       "      <td>51.0</td>\n",
       "      <td>0.99512</td>\n",
       "      <td>0.76</td>\n",
       "      <td>11.2</td>\n",
       "    </tr>\n",
       "    <tr>\n",
       "      <th>1596</th>\n",
       "      <td>6.3</td>\n",
       "      <td>0.510</td>\n",
       "      <td>0.13</td>\n",
       "      <td>0.076</td>\n",
       "      <td>40.0</td>\n",
       "      <td>0.99574</td>\n",
       "      <td>0.75</td>\n",
       "      <td>11.0</td>\n",
       "    </tr>\n",
       "    <tr>\n",
       "      <th>1597</th>\n",
       "      <td>5.9</td>\n",
       "      <td>0.645</td>\n",
       "      <td>0.12</td>\n",
       "      <td>0.075</td>\n",
       "      <td>44.0</td>\n",
       "      <td>0.99547</td>\n",
       "      <td>0.71</td>\n",
       "      <td>10.2</td>\n",
       "    </tr>\n",
       "    <tr>\n",
       "      <th>1598</th>\n",
       "      <td>6.0</td>\n",
       "      <td>0.310</td>\n",
       "      <td>0.47</td>\n",
       "      <td>0.067</td>\n",
       "      <td>42.0</td>\n",
       "      <td>0.99549</td>\n",
       "      <td>0.66</td>\n",
       "      <td>11.0</td>\n",
       "    </tr>\n",
       "  </tbody>\n",
       "</table>\n",
       "<p>1334 rows × 8 columns</p>\n",
       "</div>"
      ],
      "text/plain": [
       "      fixed acidity  volatile acidity  citric acid  chlorides  \\\n",
       "0               7.4             0.700         0.00      0.076   \n",
       "1               7.8             0.880         0.00      0.098   \n",
       "2               7.8             0.760         0.04      0.092   \n",
       "3              11.2             0.280         0.56      0.075   \n",
       "4               7.4             0.700         0.00      0.076   \n",
       "...             ...               ...          ...        ...   \n",
       "1594            6.2             0.600         0.08      0.090   \n",
       "1595            5.9             0.550         0.10      0.062   \n",
       "1596            6.3             0.510         0.13      0.076   \n",
       "1597            5.9             0.645         0.12      0.075   \n",
       "1598            6.0             0.310         0.47      0.067   \n",
       "\n",
       "      total sulfur dioxide  density  sulphates  alcohol  \n",
       "0                     34.0  0.99780       0.56      9.4  \n",
       "1                     67.0  0.99680       0.68      9.8  \n",
       "2                     54.0  0.99700       0.65      9.8  \n",
       "3                     60.0  0.99800       0.58      9.8  \n",
       "4                     34.0  0.99780       0.56      9.4  \n",
       "...                    ...      ...        ...      ...  \n",
       "1594                  44.0  0.99490       0.58     10.5  \n",
       "1595                  51.0  0.99512       0.76     11.2  \n",
       "1596                  40.0  0.99574       0.75     11.0  \n",
       "1597                  44.0  0.99547       0.71     10.2  \n",
       "1598                  42.0  0.99549       0.66     11.0  \n",
       "\n",
       "[1334 rows x 8 columns]"
      ]
     },
     "execution_count": 26,
     "metadata": {},
     "output_type": "execute_result"
    }
   ],
   "source": [
    "x"
   ]
  },
  {
   "cell_type": "code",
   "execution_count": 27,
   "metadata": {
    "colab": {
     "base_uri": "https://localhost:8080/"
    },
    "id": "9M4gYnbLyHbB",
    "outputId": "6d289d63-ef62-44a8-949f-c9b244a566a7"
   },
   "outputs": [
    {
     "data": {
      "text/plain": [
       "0       5\n",
       "1       5\n",
       "2       5\n",
       "3       6\n",
       "4       5\n",
       "       ..\n",
       "1594    5\n",
       "1595    6\n",
       "1596    6\n",
       "1597    5\n",
       "1598    6\n",
       "Name: quality, Length: 1334, dtype: int64"
      ]
     },
     "execution_count": 27,
     "metadata": {},
     "output_type": "execute_result"
    }
   ],
   "source": [
    "y\n"
   ]
  },
  {
   "cell_type": "code",
   "execution_count": 28,
   "metadata": {
    "id": "KGBy1GHnyMs2"
   },
   "outputs": [],
   "source": [
    "x_train,x_test,y_train,y_test=train_test_split(x,y,test_size=0.30,random_state=3)"
   ]
  },
  {
   "cell_type": "code",
   "execution_count": 29,
   "metadata": {
    "colab": {
     "base_uri": "https://localhost:8080/"
    },
    "id": "je6zVTYPyPdb",
    "outputId": "c0ec9a6c-2559-46cb-a12f-3e64bcd18d4e"
   },
   "outputs": [
    {
     "data": {
      "text/plain": [
       "(401,)"
      ]
     },
     "execution_count": 29,
     "metadata": {},
     "output_type": "execute_result"
    }
   ],
   "source": [
    "#x_train.shape\n",
    "#x_test.shape\n",
    "#y_train.shape\n",
    "y_test.shape"
   ]
  },
  {
   "cell_type": "code",
   "execution_count": 30,
   "metadata": {
    "colab": {
     "base_uri": "https://localhost:8080/",
     "height": 74
    },
    "id": "TNuoXv4eyStU",
    "outputId": "8077cbe9-77cd-488e-8a9b-9c808a0a46a9"
   },
   "outputs": [
    {
     "data": {
      "text/html": [
       "<style>#sk-container-id-1 {color: black;background-color: white;}#sk-container-id-1 pre{padding: 0;}#sk-container-id-1 div.sk-toggleable {background-color: white;}#sk-container-id-1 label.sk-toggleable__label {cursor: pointer;display: block;width: 100%;margin-bottom: 0;padding: 0.3em;box-sizing: border-box;text-align: center;}#sk-container-id-1 label.sk-toggleable__label-arrow:before {content: \"▸\";float: left;margin-right: 0.25em;color: #696969;}#sk-container-id-1 label.sk-toggleable__label-arrow:hover:before {color: black;}#sk-container-id-1 div.sk-estimator:hover label.sk-toggleable__label-arrow:before {color: black;}#sk-container-id-1 div.sk-toggleable__content {max-height: 0;max-width: 0;overflow: hidden;text-align: left;background-color: #f0f8ff;}#sk-container-id-1 div.sk-toggleable__content pre {margin: 0.2em;color: black;border-radius: 0.25em;background-color: #f0f8ff;}#sk-container-id-1 input.sk-toggleable__control:checked~div.sk-toggleable__content {max-height: 200px;max-width: 100%;overflow: auto;}#sk-container-id-1 input.sk-toggleable__control:checked~label.sk-toggleable__label-arrow:before {content: \"▾\";}#sk-container-id-1 div.sk-estimator input.sk-toggleable__control:checked~label.sk-toggleable__label {background-color: #d4ebff;}#sk-container-id-1 div.sk-label input.sk-toggleable__control:checked~label.sk-toggleable__label {background-color: #d4ebff;}#sk-container-id-1 input.sk-hidden--visually {border: 0;clip: rect(1px 1px 1px 1px);clip: rect(1px, 1px, 1px, 1px);height: 1px;margin: -1px;overflow: hidden;padding: 0;position: absolute;width: 1px;}#sk-container-id-1 div.sk-estimator {font-family: monospace;background-color: #f0f8ff;border: 1px dotted black;border-radius: 0.25em;box-sizing: border-box;margin-bottom: 0.5em;}#sk-container-id-1 div.sk-estimator:hover {background-color: #d4ebff;}#sk-container-id-1 div.sk-parallel-item::after {content: \"\";width: 100%;border-bottom: 1px solid gray;flex-grow: 1;}#sk-container-id-1 div.sk-label:hover label.sk-toggleable__label {background-color: #d4ebff;}#sk-container-id-1 div.sk-serial::before {content: \"\";position: absolute;border-left: 1px solid gray;box-sizing: border-box;top: 0;bottom: 0;left: 50%;z-index: 0;}#sk-container-id-1 div.sk-serial {display: flex;flex-direction: column;align-items: center;background-color: white;padding-right: 0.2em;padding-left: 0.2em;position: relative;}#sk-container-id-1 div.sk-item {position: relative;z-index: 1;}#sk-container-id-1 div.sk-parallel {display: flex;align-items: stretch;justify-content: center;background-color: white;position: relative;}#sk-container-id-1 div.sk-item::before, #sk-container-id-1 div.sk-parallel-item::before {content: \"\";position: absolute;border-left: 1px solid gray;box-sizing: border-box;top: 0;bottom: 0;left: 50%;z-index: -1;}#sk-container-id-1 div.sk-parallel-item {display: flex;flex-direction: column;z-index: 1;position: relative;background-color: white;}#sk-container-id-1 div.sk-parallel-item:first-child::after {align-self: flex-end;width: 50%;}#sk-container-id-1 div.sk-parallel-item:last-child::after {align-self: flex-start;width: 50%;}#sk-container-id-1 div.sk-parallel-item:only-child::after {width: 0;}#sk-container-id-1 div.sk-dashed-wrapped {border: 1px dashed gray;margin: 0 0.4em 0.5em 0.4em;box-sizing: border-box;padding-bottom: 0.4em;background-color: white;}#sk-container-id-1 div.sk-label label {font-family: monospace;font-weight: bold;display: inline-block;line-height: 1.2em;}#sk-container-id-1 div.sk-label-container {text-align: center;}#sk-container-id-1 div.sk-container {/* jupyter's `normalize.less` sets `[hidden] { display: none; }` but bootstrap.min.css set `[hidden] { display: none !important; }` so we also need the `!important` here to be able to override the default hidden behavior on the sphinx rendered scikit-learn.org. See: https://github.com/scikit-learn/scikit-learn/issues/21755 */display: inline-block !important;position: relative;}#sk-container-id-1 div.sk-text-repr-fallback {display: none;}</style><div id=\"sk-container-id-1\" class=\"sk-top-container\"><div class=\"sk-text-repr-fallback\"><pre>LinearRegression()</pre><b>In a Jupyter environment, please rerun this cell to show the HTML representation or trust the notebook. <br />On GitHub, the HTML representation is unable to render, please try loading this page with nbviewer.org.</b></div><div class=\"sk-container\" hidden><div class=\"sk-item\"><div class=\"sk-estimator sk-toggleable\"><input class=\"sk-toggleable__control sk-hidden--visually\" id=\"sk-estimator-id-1\" type=\"checkbox\" checked><label for=\"sk-estimator-id-1\" class=\"sk-toggleable__label sk-toggleable__label-arrow\">LinearRegression</label><div class=\"sk-toggleable__content\"><pre>LinearRegression()</pre></div></div></div></div></div>"
      ],
      "text/plain": [
       "LinearRegression()"
      ]
     },
     "execution_count": 30,
     "metadata": {},
     "output_type": "execute_result"
    }
   ],
   "source": [
    "#fitting linear regression to training data\n",
    "regressor = LinearRegression()\n",
    "regressor.fit(x_train,y_train)"
   ]
  },
  {
   "cell_type": "code",
   "execution_count": 31,
   "metadata": {
    "colab": {
     "base_uri": "https://localhost:8080/"
    },
    "id": "dxjF85weyaQV",
    "outputId": "54b0ca11-8bea-48f8-9fe2-36fa9ed1a18d"
   },
   "outputs": [
    {
     "data": {
      "text/plain": [
       "60.68502614975954"
      ]
     },
     "execution_count": 31,
     "metadata": {},
     "output_type": "execute_result"
    }
   ],
   "source": [
    "#To retrieve the intercept\n",
    "regressor.intercept_"
   ]
  },
  {
   "cell_type": "code",
   "execution_count": 32,
   "metadata": {
    "colab": {
     "base_uri": "https://localhost:8080/"
    },
    "id": "bOmwtAbWyc7p",
    "outputId": "acb5c63a-5118-4dde-9499-b9ef5c221f18"
   },
   "outputs": [
    {
     "data": {
      "text/plain": [
       "array([ 8.58165511e-02, -8.59177117e-01, -3.64687641e-01,  9.40927968e-01,\n",
       "       -1.58925613e-03, -5.90958210e+01,  1.71027805e+00,  2.48642398e-01])"
      ]
     },
     "execution_count": 32,
     "metadata": {},
     "output_type": "execute_result"
    }
   ],
   "source": [
    "#this gives thecoefficients of the 10 features selected above.\n",
    "regressor.coef_"
   ]
  },
  {
   "cell_type": "code",
   "execution_count": 34,
   "metadata": {
    "colab": {
     "base_uri": "https://localhost:8080/"
    },
    "id": "SnEHtPT7yfP_",
    "outputId": "58bb300b-088c-4b53-c613-e0068e59de72"
   },
   "outputs": [
    {
     "data": {
      "text/plain": [
       "array([5.68314583, 5.66988454, 5.85757418, 6.22659496, 6.41367418,\n",
       "       5.62444427, 6.96293472, 5.30540567, 5.432503  , 5.05637447,\n",
       "       5.22865175, 4.76583157, 5.31343502, 5.20403606, 5.29435893,\n",
       "       5.06098896, 5.59344949, 6.09373018, 5.78592024, 4.99431061,\n",
       "       5.03508561, 4.96088099, 5.63795418, 5.45097714, 6.69988637,\n",
       "       6.19332091, 4.92006441, 5.04702847, 5.68647295, 5.68484063,\n",
       "       5.26113568, 5.13784932, 5.11848533, 5.50169256, 5.97502606,\n",
       "       5.91454534, 5.9688432 , 6.26527055, 5.70447863, 5.22398922,\n",
       "       5.1951678 , 5.7336544 , 6.07139052, 6.20923465, 5.47997461,\n",
       "       5.96177632, 5.83650909, 5.52281307, 5.0973415 , 5.4856432 ,\n",
       "       5.70275392, 6.52254311, 6.05561923, 5.02918694, 5.48037499,\n",
       "       5.92027073, 5.95017039, 6.0426431 , 5.38774337, 5.44375368,\n",
       "       5.47472728, 5.42571842, 5.34603467, 5.58525948, 4.96349348,\n",
       "       4.91831184, 5.29425019, 6.0169216 , 6.62605531, 5.33740231,\n",
       "       5.14476501, 5.28370168, 5.18238816, 6.740342  , 6.19391493,\n",
       "       5.08602407, 5.71256681, 6.19391493, 6.28954744, 4.53020922,\n",
       "       5.4536786 , 5.52281307, 5.44901716, 5.0816244 , 4.93348862,\n",
       "       5.2957346 , 5.34726288, 5.40399999, 5.38039302, 5.14670044,\n",
       "       5.36072164, 4.83155076, 5.80983297, 6.64876946, 6.32301465,\n",
       "       5.97842769, 5.702619  , 5.28062075, 5.41034237, 5.3293983 ,\n",
       "       6.14809172, 5.38921542, 5.21958556, 6.12819032, 5.62444427,\n",
       "       5.70123361, 5.30601215, 5.54990181, 5.62283989, 6.22602333,\n",
       "       5.20253456, 5.41192415, 6.64201744, 5.00090607, 6.65179399,\n",
       "       6.33672429, 5.49993923, 5.37772115, 6.08871796, 5.51638736,\n",
       "       5.06209663, 5.87008523, 5.02613978, 6.43331107, 5.34096648,\n",
       "       4.85759236, 5.21911094, 5.19857285, 5.42571842, 5.06085713,\n",
       "       5.46460328, 5.90771899, 6.31364064, 5.36325218, 6.55376734,\n",
       "       5.70447863, 5.11722645, 5.13607113, 5.08569405, 5.29332181,\n",
       "       5.85827426, 5.31989383, 5.15460818, 5.16974545, 6.42120222,\n",
       "       5.87008523, 5.8597844 , 5.35951093, 6.10930493, 5.46977263,\n",
       "       6.15471008, 5.92328284, 6.05435064, 5.21086467, 5.41187445,\n",
       "       5.64956247, 5.97768688, 5.44008464, 5.12626659, 5.31998939,\n",
       "       5.8411611 , 6.08402404, 5.03479286, 5.06530456, 5.18214152,\n",
       "       5.08919518, 6.50536571, 5.84633004, 5.03283242, 5.14848846,\n",
       "       5.1087977 , 5.32253269, 5.95017039, 5.13671572, 5.34078729,\n",
       "       5.05840123, 5.70189262, 5.3687517 , 5.10935942, 6.26746641,\n",
       "       5.37965311, 5.62444427, 5.67274389, 5.11848533, 6.19183581,\n",
       "       4.84621551, 5.50521468, 5.34710754, 5.28594925, 5.414843  ,\n",
       "       5.50029428, 5.3149343 , 5.31334293, 5.21645284, 5.19757497,\n",
       "       5.97293114, 5.31965553, 4.9275435 , 5.37488051, 5.4626378 ,\n",
       "       6.27526685, 5.62601292, 6.19477377, 5.48753655, 5.40662672,\n",
       "       5.92421404, 5.75995856, 5.43147486, 6.23122204, 5.32565116,\n",
       "       6.46487554, 5.5969968 , 5.68570086, 5.14946592, 5.50212083,\n",
       "       7.01877243, 6.51695558, 5.62182408, 6.11102136, 5.50240322,\n",
       "       5.67984816, 6.48938355, 5.61065241, 5.19374643, 5.54807876,\n",
       "       5.9864913 , 5.414843  , 5.25331978, 5.17158501, 5.6924095 ,\n",
       "       5.79553866, 4.83266751, 5.75750708, 5.04278863, 5.8293382 ,\n",
       "       5.53150502, 5.78677186, 6.36862789, 5.33394393, 6.31138585,\n",
       "       6.33063761, 5.22865175, 5.56541945, 5.41792401, 5.33353305,\n",
       "       5.42404757, 6.28270585, 5.81780727, 6.54660668, 5.91771804,\n",
       "       6.12147427, 5.59946675, 5.30672724, 5.5969968 , 5.79024504,\n",
       "       5.54111492, 5.12770478, 4.97043446, 5.64948835, 5.99350496,\n",
       "       5.78181297, 5.96737781, 6.33851961, 5.8531347 , 5.8611256 ,\n",
       "       5.04848325, 5.18876882, 6.30905788, 5.14056429, 5.62498738,\n",
       "       5.93982945, 5.27002405, 6.31178593, 5.59001954, 6.13521956,\n",
       "       5.56296228, 5.62222665, 6.7165852 , 5.24291886, 4.98096209,\n",
       "       5.81554784, 5.09539381, 6.87381767, 4.93600377, 6.06280327,\n",
       "       5.74698862, 6.18683508, 5.20177813, 5.37180626, 6.52251376,\n",
       "       4.99306642, 5.62444427, 6.27124156, 6.11856497, 5.18088335,\n",
       "       5.11236184, 6.66090298, 5.13511714, 6.08871796, 6.0893419 ,\n",
       "       6.24839521, 5.92368032, 5.11295662, 5.02563429, 5.08961745,\n",
       "       5.70181197, 5.07863955, 5.69253712, 5.98144287, 6.3452603 ,\n",
       "       4.62708095, 5.11781006, 5.90771899, 5.25932895, 5.22562647,\n",
       "       6.21092819, 6.08529285, 5.46453584, 5.31551298, 5.65745583,\n",
       "       5.17227117, 6.14732854, 5.71451981, 5.59784657, 6.57330643,\n",
       "       5.6615435 , 5.82676707, 5.43142397, 6.29883473, 5.3249605 ,\n",
       "       5.08832405, 5.70784105, 6.31150354, 6.31912777, 5.33353305,\n",
       "       5.82388307, 5.0786453 , 5.8910246 , 5.40303739, 5.22562647,\n",
       "       5.12066727, 5.07863955, 5.45595138, 5.36421689, 6.16671652,\n",
       "       6.18683508, 5.72015228, 6.44768352, 5.20653862, 5.18046934,\n",
       "       5.73555783, 5.8114799 , 5.22755977, 5.22882808, 5.19355173,\n",
       "       6.01651617, 5.59037505, 5.12293701, 5.61180788, 5.29071506,\n",
       "       6.11327294, 5.904467  , 5.12231394, 5.45389021, 6.00714555,\n",
       "       5.20253456, 5.80857541, 5.28594925, 6.19638948, 6.54095981,\n",
       "       5.60174852, 5.4856432 , 5.38309311, 5.03518128, 5.26188633,\n",
       "       4.92008697, 6.19477377, 5.7876039 , 5.02203887, 5.80095831,\n",
       "       5.27981502, 5.29940893, 5.11003145, 5.90116686, 5.22981759,\n",
       "       5.14670044, 5.41463755, 6.47136365, 5.42750458, 5.3368254 ,\n",
       "       5.41187445, 6.0879909 , 5.47370271, 5.49540153, 5.34681659,\n",
       "       5.51504011, 5.70189262, 5.33776838, 6.27616034, 5.04967142,\n",
       "       6.23266739, 6.0632898 , 5.53668336, 6.35549837, 4.83414001,\n",
       "       5.08825562, 5.26475678, 5.65987992, 6.54095981, 5.66084255,\n",
       "       5.94636881, 5.2881886 , 5.18542802, 6.2301378 , 5.50692894,\n",
       "       5.60582704, 6.64636216, 5.65745583, 6.35246771, 5.61557271,\n",
       "       5.81737252, 5.37942542, 5.54807876, 5.52384774, 5.72811977,\n",
       "       5.82912258, 5.58222406, 5.25437423, 5.20033048, 4.90258846,\n",
       "       5.52384774, 5.18214152, 6.35845763, 5.51623143, 6.26880165,\n",
       "       6.32090202, 5.92172314, 6.17808788, 6.11142095, 6.29040022,\n",
       "       5.94389898, 6.00164846, 6.01220083, 5.38921542, 5.48341426,\n",
       "       5.52020376, 5.8695109 , 5.1537369 , 5.50010729, 5.75230606,\n",
       "       5.82187329, 5.6925873 , 6.72763135, 5.58160014, 5.81640215,\n",
       "       4.85154385, 4.65887516, 5.19722781, 5.08961745, 5.17543422,\n",
       "       6.42442148, 5.31910684, 6.06660927, 5.71256681, 5.44107271,\n",
       "       5.45541505, 6.99586678, 6.43500036, 5.37853485, 5.79665492,\n",
       "       5.18289478, 5.64996344, 6.50485979, 5.47740213, 6.32553404,\n",
       "       5.16877649, 6.28450061, 5.35160094, 5.66892084, 6.28722063,\n",
       "       5.29471333, 5.66892084, 5.33994837, 6.09284803, 6.06560787,\n",
       "       5.19550631, 5.7384614 , 5.051497  , 5.07903405, 6.63439035,\n",
       "       6.69577887, 5.47384051, 5.64614728, 4.9237098 , 5.47334954,\n",
       "       6.14829656, 6.37027552, 4.7497638 , 5.16352792, 5.13687074,\n",
       "       5.62601292, 6.15139319, 5.8910246 , 6.1313228 , 5.16907047,\n",
       "       5.32632882, 5.85695737, 5.12143505, 5.09539139, 5.03508561,\n",
       "       6.68821819, 5.32447972, 6.19623261, 6.18743616, 5.66775987,\n",
       "       5.19757497, 6.24263353, 6.01763611, 5.26475678, 5.91138413,\n",
       "       5.67785802, 5.58045419, 6.52382537, 5.7727529 , 6.42301696,\n",
       "       6.1801045 , 5.10833086, 5.2957346 , 5.05648482, 5.91466968,\n",
       "       5.22809275, 5.08781928, 5.93649626, 5.92029929, 5.93410896,\n",
       "       4.97320656, 4.9354055 , 6.64291286, 6.02322578, 5.11518036,\n",
       "       5.66892084, 5.90243619, 6.42004237, 5.35987492, 5.41924665,\n",
       "       4.9780403 , 5.13784932, 5.4551467 , 5.45292272, 6.20888242,\n",
       "       5.8844644 , 6.49065283, 5.4889972 , 6.31896287, 5.12713811,\n",
       "       6.07175964, 5.08351382, 5.22235427, 5.16254057, 5.352399  ,\n",
       "       5.26179083, 6.49065283, 5.37704813, 6.52075546, 5.41792401,\n",
       "       5.69212263, 5.80707703, 5.97718102, 6.24561102, 6.33587418,\n",
       "       5.44765392, 5.0758004 , 5.86486635, 5.05593214, 5.09417849,\n",
       "       5.86019341, 6.22315362, 6.11786154, 5.43017478, 5.10832592,\n",
       "       5.68314583, 5.34809805, 5.26288378, 5.73367328, 5.87074292,\n",
       "       5.62766567, 5.59142021, 5.71256681, 6.37743974, 5.00714826,\n",
       "       6.44780313, 6.7913553 , 5.79665492, 5.08110861, 5.33954307,\n",
       "       6.56729468, 5.20407454, 6.04361451, 5.76184778, 6.13747612,\n",
       "       5.45709769, 5.22116895, 5.23627617, 5.27149326, 5.8611256 ,\n",
       "       6.37297799, 6.326469  , 5.06173033, 5.83854989, 5.16877649,\n",
       "       5.22755977, 5.90862908, 4.9006382 , 5.50192655, 5.4367388 ,\n",
       "       5.11236184, 5.46170076, 5.71724269, 5.36072164, 5.73615721,\n",
       "       5.1670668 , 5.29332181, 5.34707488, 4.95691234, 5.65994589,\n",
       "       5.06079017, 5.07799979, 5.1458955 , 6.04628274, 6.64636216,\n",
       "       6.45857919, 5.13599454, 4.97109312, 5.81312982, 5.53528995,\n",
       "       6.28075115, 6.69988637, 5.94070766, 6.07470976, 5.44419173,\n",
       "       6.48619714, 5.59946675, 5.16329254, 5.64705524, 5.3885074 ,\n",
       "       5.35794052, 4.88869478, 6.17826657, 5.17520383, 5.34963958,\n",
       "       6.482783  , 5.82307827, 6.54285529, 6.14090044, 5.7751346 ,\n",
       "       5.68920678, 5.90767372, 4.94932368, 5.47103643, 5.64322838,\n",
       "       5.31578808, 5.84394362, 5.1176207 , 5.81640215, 5.29111025,\n",
       "       5.89498374, 5.16585385, 5.39695209, 5.44490883, 6.0879909 ,\n",
       "       6.07470976, 5.46461393, 5.89991326, 6.45543994, 6.79785415,\n",
       "       5.49543791, 5.89270266, 5.99192944, 5.44390799, 5.45391849,\n",
       "       5.91487769, 6.03595136, 5.07075291, 5.21958556, 5.41611214,\n",
       "       5.8017725 , 5.65020512, 5.11295662, 5.87337396, 5.35495081,\n",
       "       5.03613564, 5.06523069, 6.30816359, 4.91243336, 6.37123389,\n",
       "       5.7751346 , 5.52736307, 5.93810692, 6.32357873, 6.29240567,\n",
       "       6.19391493, 5.38934609, 4.96887042, 5.10176957, 5.1980952 ,\n",
       "       5.93678592, 6.47749596, 6.34584759, 5.19139829, 5.40303739,\n",
       "       6.05972171, 5.07335844, 4.97032041, 5.62365619, 5.92172314,\n",
       "       5.16921862, 5.03809374, 5.97842769, 6.23359084, 5.34449697,\n",
       "       6.00425499, 5.11669921, 5.42750458, 6.01346955, 4.94788997,\n",
       "       5.62087066, 5.70836915, 5.70288058, 5.40838492, 5.87265813,\n",
       "       5.77418592, 5.89935059, 5.41034237, 5.49823265, 5.80484625,\n",
       "       6.76146125, 5.70544011, 5.26601279, 5.93267976, 6.04899717,\n",
       "       5.42350755, 6.65148069, 5.31998939, 5.10146033, 5.94164597,\n",
       "       5.44734805, 6.11974872, 6.44768352, 6.23053944, 5.06918868,\n",
       "       6.01781174, 5.65991328, 5.82585832, 5.56218845, 5.92027144,\n",
       "       5.14086065, 5.1458955 , 6.21580464, 5.70275392, 5.66892084,\n",
       "       5.05037679, 6.49065283, 5.53687529, 5.83949277, 5.75491196,\n",
       "       5.84712638, 5.39396646, 6.06552417, 5.39879209, 5.83517828,\n",
       "       6.11224461, 6.32311878, 5.11518036, 6.29897202, 6.24406814,\n",
       "       5.41285509, 6.65148069, 5.89206137, 6.05503654, 5.06173033,\n",
       "       5.38748212, 6.61944934, 5.39109186, 5.31120292, 6.55871432,\n",
       "       5.31343502, 5.48480949, 5.51341789, 5.47361318, 5.39314927,\n",
       "       6.06429822, 6.86552181, 5.20013014, 5.15485253, 5.24738051,\n",
       "       6.25659845, 6.29857474, 4.98208684, 5.47769294, 5.39672352,\n",
       "       5.4626378 , 5.20825869, 5.60080925, 5.89498374, 5.52304213,\n",
       "       5.22717592, 5.51746096, 6.87380989, 5.62680803, 5.08110861,\n",
       "       5.36493394, 5.54070557, 5.68359077, 5.19625399, 6.03899762,\n",
       "       5.608337  , 5.44981073, 6.22602333, 6.14135075, 6.30905788,\n",
       "       5.36949032, 5.8215378 , 5.37171511, 6.4907184 , 6.34584759,\n",
       "       5.50666113, 5.3009997 , 5.32888874, 5.46096686, 6.05794185,\n",
       "       5.55981285, 6.35196124, 5.80235211, 6.0834919 , 5.40995297,\n",
       "       5.54702457, 4.92829925, 5.29950121, 5.7775113 , 5.41005534,\n",
       "       6.15769707, 5.19026639, 5.0056044 , 5.36480098, 5.35521505,\n",
       "       5.12445186, 5.354197  , 5.03397902, 5.19866312, 6.15471008,\n",
       "       5.78592024, 6.326469  , 5.59160557, 5.24148891, 5.62329092,\n",
       "       4.99306642, 5.73555783, 5.71593052, 5.52832524, 6.17491379,\n",
       "       5.27964561, 5.93267976, 5.21567576, 6.06696831, 5.58816453,\n",
       "       5.38039302, 5.30540567, 5.2881886 , 5.84903647, 5.45089957,\n",
       "       5.34170634, 5.31742142, 6.27124156, 5.26475678, 6.54282771,\n",
       "       5.5190628 , 5.01232433, 5.19961316, 5.52138467, 5.43716531,\n",
       "       5.7431752 , 5.04465616, 6.63344116, 5.57507672, 5.18267645,\n",
       "       5.61324368, 6.19391493, 5.31362707, 5.3687517 , 4.90745929,\n",
       "       5.13458282, 5.50666113, 6.31851104, 6.01601684, 5.56476926,\n",
       "       6.07450399, 6.26150181, 4.98826146, 6.13169376, 5.0981746 ,\n",
       "       6.15308338, 5.46689997, 5.22088136, 5.32588757, 6.15769707,\n",
       "       5.35521505, 5.24158141, 6.64065026, 5.24714024, 6.41376284,\n",
       "       6.11786154, 5.07128938, 5.08410797, 6.22909674, 6.22872484,\n",
       "       5.84394362, 5.79823435, 5.07057983, 5.029769  , 5.72015228,\n",
       "       5.10767214, 5.30838634, 5.76013688, 5.60791413, 6.52247638,\n",
       "       6.13585922, 5.64853366, 5.89206137, 6.31783618, 5.44439711,\n",
       "       6.46854919, 5.91823072, 5.38521307])"
      ]
     },
     "execution_count": 34,
     "metadata": {},
     "output_type": "execute_result"
    }
   ],
   "source": [
    "train_pred = regressor.predict(x_train)\n",
    "train_pred"
   ]
  },
  {
   "cell_type": "code",
   "execution_count": 35,
   "metadata": {
    "colab": {
     "base_uri": "https://localhost:8080/"
    },
    "id": "AUCC9iLByjHS",
    "outputId": "1c3edfc8-ff5d-4a36-c55d-14023674667e"
   },
   "outputs": [
    {
     "data": {
      "text/plain": [
       "array([5.63029669, 6.61864826, 5.35794052, 5.99350496, 5.39852486,\n",
       "       5.22874336, 5.85593654, 5.91572845, 5.98700814, 6.25626197,\n",
       "       5.11669921, 5.86811442, 5.0816244 , 5.14476501, 5.90816534,\n",
       "       5.81640215, 5.02313008, 5.478131  , 6.12494099, 5.46779115,\n",
       "       4.93566436, 5.9272754 , 4.96088099, 5.62761854, 5.30647743,\n",
       "       5.53161243, 5.49832231, 5.04517765, 4.98081341, 6.03680719,\n",
       "       5.79321325, 6.01533774, 6.18011141, 4.92938118, 5.7756646 ,\n",
       "       4.7678461 , 5.96816479, 6.49939589, 5.7441051 , 5.77595024,\n",
       "       5.27981502, 5.53069839, 5.53161243, 5.05416608, 6.0764887 ,\n",
       "       5.03248717, 6.37401383, 5.904467  , 5.45852661, 5.84996537,\n",
       "       5.05159042, 5.1043692 , 5.9612874 , 5.14585882, 6.5409529 ,\n",
       "       5.15358995, 5.85764004, 5.30302691, 5.37183582, 5.02058543,\n",
       "       6.01577414, 5.53354485, 5.18691213, 5.44908298, 5.0029518 ,\n",
       "       5.95328691, 5.19463799, 6.97082998, 6.01651617, 5.19550631,\n",
       "       5.37792893, 6.106477  , 6.10590769, 5.30482163, 5.029769  ,\n",
       "       6.08118755, 5.67814117, 5.0702448 , 5.06968277, 5.78774212,\n",
       "       5.99212014, 5.08410797, 5.82388307, 5.92189273, 5.18267645,\n",
       "       6.25454946, 5.31551298, 5.26554306, 5.60174852, 6.2145618 ,\n",
       "       5.58816453, 6.01393588, 5.98144287, 5.72614433, 6.08971103,\n",
       "       4.93626238, 6.18104351, 5.73527759, 6.25962311, 5.32036497,\n",
       "       5.79553866, 5.02302681, 5.48801452, 5.81445254, 5.75453741,\n",
       "       5.03763774, 5.40890151, 5.79302186, 4.96778282, 5.37772115,\n",
       "       6.56066351, 5.78774212, 5.40009342, 5.15055875, 6.32587185,\n",
       "       5.0245393 , 5.03721877, 5.75459131, 6.16850612, 5.71593052,\n",
       "       5.92189273, 5.08961745, 4.8907346 , 5.25703007, 6.49325123,\n",
       "       4.97795557, 5.61430701, 5.31989383, 5.06209663, 5.76232232,\n",
       "       4.7678461 , 5.33040859, 6.71274771, 5.61065241, 5.43979494,\n",
       "       5.24028954, 5.18354137, 5.20243857, 5.18046934, 5.05605706,\n",
       "       6.30048687, 6.55320212, 4.97582174, 5.14476501, 5.34603467,\n",
       "       6.13347133, 5.42211477, 6.54009477, 5.27702041, 4.99869675,\n",
       "       5.48179373, 5.53173964, 6.53688886, 4.92923744, 5.71125599,\n",
       "       5.48091576, 5.99018528, 5.67274389, 6.18726133, 5.39138198,\n",
       "       5.45391849, 5.91236736, 5.89671225, 6.10394596, 5.264059  ,\n",
       "       6.26632301, 5.65442809, 5.11844464, 6.01393588, 5.08366746,\n",
       "       5.34622804, 5.00729412, 5.33699203, 6.1512896 , 6.64876946,\n",
       "       5.71134807, 6.18880965, 5.41714951, 6.11493378, 5.74433701,\n",
       "       5.43716531, 5.19722781, 5.84633004, 5.54157123, 5.40021619,\n",
       "       5.62766567, 5.12778043, 6.11224461, 5.24940947, 5.31998939,\n",
       "       5.77378243, 5.62267278, 6.73051251, 6.04899717, 5.63202025,\n",
       "       6.23266739, 5.54308701, 5.42874518, 5.72536632, 5.47249987,\n",
       "       6.05794714, 5.38309311, 6.32553404, 6.0156017 , 5.94381195,\n",
       "       4.88557041, 4.98462343, 5.18238816, 5.98800527, 5.07842575,\n",
       "       5.44634137, 5.87872018, 5.32495067, 5.72525179, 5.01585087,\n",
       "       6.50536571, 5.32246392, 5.30379757, 5.35053491, 5.94164597,\n",
       "       5.64294981, 5.97768688, 5.3175778 , 5.13230179, 5.97879038,\n",
       "       5.87927164, 5.01504983, 5.30838634, 5.29940893, 6.13517639,\n",
       "       6.40220206, 5.90040005, 5.37554643, 5.2881886 , 5.46702949,\n",
       "       5.89671225, 5.01086631, 4.96012612, 6.16221517, 6.16509762,\n",
       "       5.0185091 , 5.289756  , 5.39522805, 5.50169256, 5.03397902,\n",
       "       5.13857016, 5.31578808, 5.11975505, 5.53137053, 6.12407042,\n",
       "       5.06962466, 5.4165094 , 5.66204918, 5.94389898, 5.33361858,\n",
       "       5.77868309, 6.23522631, 5.1430666 , 5.64322838, 6.182465  ,\n",
       "       5.14572851, 5.33968588, 5.40558791, 5.9188241 , 5.61324368,\n",
       "       5.47209253, 5.8215378 , 5.30540567, 5.3568358 , 5.92951664,\n",
       "       6.02728421, 6.15497041, 5.54634863, 5.36364392, 6.23053944,\n",
       "       5.53749026, 5.45783512, 5.65642167, 5.7756646 , 5.11848533,\n",
       "       5.15407579, 6.05131771, 5.18398765, 6.19911908, 5.80514547,\n",
       "       6.81946385, 5.8411611 , 5.00729412, 6.4907184 , 5.75028945,\n",
       "       6.08402633, 6.51323075, 4.85656489, 5.41244375, 5.35720534,\n",
       "       5.01331097, 5.20353024, 5.58309605, 7.08365127, 4.81707647,\n",
       "       5.16963296, 5.30790862, 6.0879909 , 4.96748098, 5.7876039 ,\n",
       "       6.67906934, 5.40576723, 5.20976204, 5.1043692 , 4.96309431,\n",
       "       5.60592642, 6.62011752, 5.41714951, 6.44780313, 5.48091576,\n",
       "       5.02563429, 5.71958384, 5.36929244, 5.32045143, 5.5041614 ,\n",
       "       5.18402901, 5.12615029, 5.45265532, 5.0245393 , 5.62566405,\n",
       "       5.17153106, 5.71134807, 5.48143397, 5.03809374, 7.01877243,\n",
       "       4.96935574, 5.19375323, 5.45595138, 6.49810729, 5.2998302 ,\n",
       "       5.76013688, 5.68647295, 6.00355726, 5.56296228, 5.6220066 ,\n",
       "       6.22343905, 5.53830763, 4.99677828, 4.68090664, 6.03498678,\n",
       "       5.65991328, 5.1733413 , 4.80687421, 5.1458955 , 6.27329605,\n",
       "       5.06833199, 5.65911205, 6.12173958, 5.15948982, 5.53872989,\n",
       "       5.51649219, 5.57516637, 5.38934609, 5.50188009, 5.43152199,\n",
       "       6.64636216, 5.43988461, 5.15540214, 5.76232232, 5.30540567,\n",
       "       5.06530456, 5.18880579, 5.20299366, 5.77561404, 6.22909674,\n",
       "       5.45820773, 5.05191269, 4.8907346 , 4.94454027, 6.37550436,\n",
       "       4.96309431, 6.19332091, 6.09434068, 5.76410884, 5.34156895,\n",
       "       4.97657579, 5.96336619, 6.03040391, 6.24263353, 5.59081197,\n",
       "       6.03050606, 6.41917095, 5.86944104, 5.15050585, 5.8531347 ,\n",
       "       6.16221517, 5.36949032, 6.18880965, 5.21583165, 5.28530099,\n",
       "       6.47749596, 6.29162393, 6.00157605, 5.42395202, 5.84241286,\n",
       "       6.17826657])"
      ]
     },
     "execution_count": 35,
     "metadata": {},
     "output_type": "execute_result"
    }
   ],
   "source": [
    "test_pred = regressor.predict(x_test)\n",
    "test_pred"
   ]
  },
  {
   "cell_type": "code",
   "execution_count": 36,
   "metadata": {
    "colab": {
     "base_uri": "https://localhost:8080/"
    },
    "id": "wKehY3hayl-w",
    "outputId": "82b2faa3-9ed8-41d8-bc8b-0a3c9b70eb1f"
   },
   "outputs": [
    {
     "data": {
      "text/plain": [
       "0.5756334309288693"
      ]
     },
     "execution_count": 36,
     "metadata": {},
     "output_type": "execute_result"
    }
   ],
   "source": [
    "train_rmse = metrics.mean_squared_error(train_pred,y_train)**0.5\n",
    "train_rmse"
   ]
  },
  {
   "cell_type": "code",
   "execution_count": 37,
   "metadata": {
    "colab": {
     "base_uri": "https://localhost:8080/"
    },
    "id": "hl8Zoj95yoV1",
    "outputId": "f4b94e5b-4937-41d9-9e0d-44f38c9430db"
   },
   "outputs": [
    {
     "data": {
      "text/plain": [
       "0.5765305295139872"
      ]
     },
     "execution_count": 37,
     "metadata": {},
     "output_type": "execute_result"
    }
   ],
   "source": [
    "test_rmse = metrics.mean_squared_error(test_pred,y_test)**0.5\n",
    "test_rmse"
   ]
  },
  {
   "cell_type": "code",
   "execution_count": 38,
   "metadata": {
    "colab": {
     "base_uri": "https://localhost:8080/"
    },
    "id": "dUnC88-4yqOX",
    "outputId": "5e0be864-0ba4-4c8b-fe09-9edc99e02958"
   },
   "outputs": [
    {
     "data": {
      "text/plain": [
       "array([6., 7., 5., 6., 5., 5., 6., 6., 6., 6., 5., 6., 5., 5., 6., 6., 5.,\n",
       "       5., 6., 5., 5., 6., 5., 6., 5., 6., 5., 5., 5., 6., 6., 6., 6., 5.,\n",
       "       6., 5., 6., 6., 6., 6., 5., 6., 6., 5., 6., 5., 6., 6., 5., 6., 5.,\n",
       "       5., 6., 5., 7., 5., 6., 5., 5., 5., 6., 6., 5., 5., 5., 6., 5., 7.,\n",
       "       6., 5., 5., 6., 6., 5., 5., 6., 6., 5., 5., 6., 6., 5., 6., 6., 5.,\n",
       "       6., 5., 5., 6., 6., 6., 6., 6., 6., 6., 5., 6., 6., 6., 5., 6., 5.,\n",
       "       5., 6., 6., 5., 5., 6., 5., 5., 7., 6., 5., 5., 6., 5., 5., 6., 6.,\n",
       "       6., 6., 5., 5., 5., 6., 5., 6., 5., 5., 6., 5., 5., 7., 6., 5., 5.,\n",
       "       5., 5., 5., 5., 6., 7., 5., 5., 5., 6., 5., 7., 5., 5., 5., 6., 7.,\n",
       "       5., 6., 5., 6., 6., 6., 5., 5., 6., 6., 6., 5., 6., 6., 5., 6., 5.,\n",
       "       5., 5., 5., 6., 7., 6., 6., 5., 6., 6., 5., 5., 6., 6., 5., 6., 5.,\n",
       "       6., 5., 5., 6., 6., 7., 6., 6., 6., 6., 5., 6., 5., 6., 5., 6., 6.,\n",
       "       6., 5., 5., 5., 6., 5., 5., 6., 5., 6., 5., 7., 5., 5., 5., 6., 6.,\n",
       "       6., 5., 5., 6., 6., 5., 5., 5., 6., 6., 6., 5., 5., 5., 6., 5., 5.,\n",
       "       6., 6., 5., 5., 5., 6., 5., 5., 5., 5., 6., 6., 5., 5., 6., 6., 5.,\n",
       "       6., 6., 5., 6., 6., 5., 5., 5., 6., 6., 5., 6., 5., 5., 6., 6., 6.,\n",
       "       6., 5., 6., 6., 5., 6., 6., 5., 5., 6., 5., 6., 6., 7., 6., 5., 6.,\n",
       "       6., 6., 7., 5., 5., 5., 5., 5., 6., 7., 5., 5., 5., 6., 5., 6., 7.,\n",
       "       5., 5., 5., 5., 6., 7., 5., 6., 5., 5., 6., 5., 5., 6., 5., 5., 5.,\n",
       "       5., 6., 5., 6., 5., 5., 7., 5., 5., 5., 6., 5., 6., 6., 6., 6., 6.,\n",
       "       6., 6., 5., 5., 6., 6., 5., 5., 5., 6., 5., 6., 6., 5., 6., 6., 6.,\n",
       "       5., 6., 5., 7., 5., 5., 6., 5., 5., 5., 5., 6., 6., 5., 5., 5., 5.,\n",
       "       6., 5., 6., 6., 6., 5., 5., 6., 6., 6., 6., 6., 6., 6., 5., 6., 6.,\n",
       "       5., 6., 5., 5., 6., 6., 6., 5., 6., 6.])"
      ]
     },
     "execution_count": 38,
     "metadata": {},
     "output_type": "execute_result"
    }
   ],
   "source": [
    "#rounding off the predicted values for test set\n",
    "predicted_data=np.round_(test_pred)\n",
    "predicted_data"
   ]
  },
  {
   "cell_type": "code",
   "execution_count": 39,
   "metadata": {
    "colab": {
     "base_uri": "https://localhost:8080/"
    },
    "id": "DbdokKRMytHF",
    "outputId": "1e0f5e15-21e3-4053-e147-7fa8b52257d8"
   },
   "outputs": [
    {
     "name": "stdout",
     "output_type": "stream",
     "text": [
      "Mean Absolute Error: 0.44267146812856084\n",
      "Mean Squared Error: 0.3323874514616784\n",
      "Root Mean Squared Error: 0.5765305295139872\n"
     ]
    }
   ],
   "source": [
    "print('Mean Absolute Error:',metrics.mean_absolute_error(y_test,test_pred))\n",
    "print('Mean Squared Error:',metrics.mean_squared_error(y_test,test_pred))\n",
    "rmse=np.sqrt(metrics.mean_squared_error(y_test,test_pred))\n",
    "print('Root Mean Squared Error:',rmse)"
   ]
  },
  {
   "cell_type": "code",
   "execution_count": 40,
   "metadata": {
    "colab": {
     "base_uri": "https://localhost:8080/"
    },
    "id": "NuUOs2a_yvSl",
    "outputId": "59cc97bb-d85f-47a7-9695-8c51019d0842"
   },
   "outputs": [
    {
     "data": {
      "text/plain": [
       "0.30847154117622777"
      ]
     },
     "execution_count": 40,
     "metadata": {},
     "output_type": "execute_result"
    }
   ],
   "source": [
    "from sklearn.metrics import r2_score\n",
    "r2_score(y_test,test_pred)"
   ]
  },
  {
   "cell_type": "code",
   "execution_count": 41,
   "metadata": {
    "colab": {
     "base_uri": "https://localhost:8080/",
     "height": 331
    },
    "id": "vNy78LIAyxDw",
    "outputId": "18d2b2de-59e1-4f32-ccde-8ba48c1002ed"
   },
   "outputs": [
    {
     "data": {
      "text/html": [
       "<div>\n",
       "<style scoped>\n",
       "    .dataframe tbody tr th:only-of-type {\n",
       "        vertical-align: middle;\n",
       "    }\n",
       "\n",
       "    .dataframe tbody tr th {\n",
       "        vertical-align: top;\n",
       "    }\n",
       "\n",
       "    .dataframe thead th {\n",
       "        text-align: right;\n",
       "    }\n",
       "</style>\n",
       "<table border=\"1\" class=\"dataframe\">\n",
       "  <thead>\n",
       "    <tr style=\"text-align: right;\">\n",
       "      <th></th>\n",
       "      <th>Coeffecient</th>\n",
       "    </tr>\n",
       "  </thead>\n",
       "  <tbody>\n",
       "    <tr>\n",
       "      <th>fixed acidity</th>\n",
       "      <td>0.085817</td>\n",
       "    </tr>\n",
       "    <tr>\n",
       "      <th>volatile acidity</th>\n",
       "      <td>-0.859177</td>\n",
       "    </tr>\n",
       "    <tr>\n",
       "      <th>citric acid</th>\n",
       "      <td>-0.364688</td>\n",
       "    </tr>\n",
       "    <tr>\n",
       "      <th>chlorides</th>\n",
       "      <td>0.940928</td>\n",
       "    </tr>\n",
       "    <tr>\n",
       "      <th>total sulfur dioxide</th>\n",
       "      <td>-0.001589</td>\n",
       "    </tr>\n",
       "    <tr>\n",
       "      <th>density</th>\n",
       "      <td>-59.095821</td>\n",
       "    </tr>\n",
       "    <tr>\n",
       "      <th>sulphates</th>\n",
       "      <td>1.710278</td>\n",
       "    </tr>\n",
       "    <tr>\n",
       "      <th>alcohol</th>\n",
       "      <td>0.248642</td>\n",
       "    </tr>\n",
       "  </tbody>\n",
       "</table>\n",
       "</div>"
      ],
      "text/plain": [
       "                      Coeffecient\n",
       "fixed acidity            0.085817\n",
       "volatile acidity        -0.859177\n",
       "citric acid             -0.364688\n",
       "chlorides                0.940928\n",
       "total sulfur dioxide    -0.001589\n",
       "density                -59.095821\n",
       "sulphates                1.710278\n",
       "alcohol                  0.248642"
      ]
     },
     "execution_count": 41,
     "metadata": {},
     "output_type": "execute_result"
    }
   ],
   "source": [
    "coeffecients = pd.DataFrame(regressor.coef_,features)\n",
    "coeffecients.columns=['Coeffecient']\n",
    "coeffecients"
   ]
  },
  {
   "cell_type": "code",
   "execution_count": 42,
   "metadata": {
    "colab": {
     "base_uri": "https://localhost:8080/",
     "height": 452
    },
    "id": "1F5pWiy4yzeb",
    "outputId": "2893b3e3-03d3-415d-ff13-55a5c20bfd77"
   },
   "outputs": [
    {
     "data": {
      "image/png": "[encoded data removed]",
      "text/plain": [
       "<Figure size 640x480 with 1 Axes>"
      ]
     },
     "metadata": {},
     "output_type": "display_data"
    }
   ],
   "source": [
    "import matplotlib.pyplot as plt1\n",
    "ax=plt1.axes()\n",
    "color1='green'\n",
    "color2='blue'\n",
    "ax.arrow(0,0,1,0.56,head_width=0.00,head_length=0,fc=color2,ec=color2)\n",
    "ax.arrow(0,0,2,0.63,head_width=0.00,head_length=0.05,fc=color1,ec=color1,linestyle='--')\n",
    "ax.set_ylim([0,0.8])\n",
    "ax.set_xlim([0,4])\n",
    "plt.grid()\n",
    "plt.title('RMSE_Score')\n",
    "plt1.show()"
   ]
  },
  {
   "cell_type": "code",
   "execution_count": 43,
   "metadata": {
    "colab": {
     "base_uri": "https://localhost:8080/",
     "height": 452
    },
    "id": "o9ho0MtZy2P3",
    "outputId": "fdc1e3f6-193d-4cf8-efa0-f1392b055bfe"
   },
   "outputs": [
    {
     "data": {
      "image/png": "[encoded data removed]",
      "text/plain": [
       "<Figure size 640x480 with 1 Axes>"
      ]
     },
     "metadata": {},
     "output_type": "display_data"
    }
   ],
   "source": [
    "import matplotlib.pyplot as plt1\n",
    "ax=plt1.axes()\n",
    "color1='green'\n",
    "color2='blue'\n",
    "ax.arrow(0,0,2,0.40,head_width=0.00,head_length=0,fc=color2,ec=color2)\n",
    "ax.arrow(0,0,1,0.34,head_width=0.00,head_length=0.05,fc=color1,ec=color1,linestyle='--')\n",
    "ax.set_ylim([0,0.6])\n",
    "ax.set_xlim([0,3])\n",
    "plt.grid()\n",
    "plt.title('R2_Score')\n",
    "plt1.show()"
   ]
  },
  {
   "cell_type": "code",
   "execution_count": 44,
   "metadata": {
    "colab": {
     "base_uri": "https://localhost:8080/",
     "height": 452
    },
    "id": "4xVGAVugy4uo",
    "outputId": "9c179b14-7b40-48ee-d0dc-4cfd5befb189"
   },
   "outputs": [
    {
     "data": {
      "image/png": "[encoded data removed]",
      "text/plain": [
       "<Figure size 640x480 with 1 Axes>"
      ]
     },
     "metadata": {},
     "output_type": "display_data"
    }
   ],
   "source": [
    "import matplotlib.pyplot as plt1\n",
    "ax=plt1.axes()\n",
    "color1='green'\n",
    "color2='blue'\n",
    "ax.arrow(0,0,1,0.45,head_width=0.00,head_length=0,fc=color2,ec=color2)\n",
    "ax.arrow(0,0,2,0.49,head_width=0.00,head_length=0.05,fc=color1,ec=color1,linestyle='--')\n",
    "ax.set_ylim([0,0.6])\n",
    "ax.set_xlim([0,3])\n",
    "plt.grid()\n",
    "plt.title('MAE')\n",
    "plt1.show()"
   ]
  },
  {
   "cell_type": "code",
   "execution_count": null,
   "metadata": {},
   "outputs": [],
   "source": []
  }
 ],
 "metadata": {
  "colab": {
   "provenance": []
  },
  "kernelspec": {
   "display_name": "Python 3 (ipykernel)",
   "language": "python",
   "name": "python3"
  },
  "language_info": {
   "codemirror_mode": {
    "name": "ipython",
    "version": 3
   },
   "file_extension": ".py",
   "mimetype": "text/x-python",
   "name": "python",
   "nbconvert_exporter": "python",
   "pygments_lexer": "ipython3",
   "version": "3.11.4"
  }
 },
 "nbformat": 4,
 "nbformat_minor": 1
}
